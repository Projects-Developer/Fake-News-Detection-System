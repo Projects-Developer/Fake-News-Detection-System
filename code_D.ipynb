{
  "nbformat": 4,
  "nbformat_minor": 0,
  "metadata": {
    "colab": {
      "name": "code D.ipynb",
      "provenance": []
    },
    "kernelspec": {
      "name": "python3",
      "display_name": "Python 3"
    },
    "language_info": {
      "name": "python"
    }
  },
  "cells": [
    {
      "cell_type": "markdown",
      "metadata": {
        "id": "SNSLx-o-v3cL"
      },
      "source": [
        "## I have made this Project files Private If you want then mail me :\n",
        "\n",
        "# Please mail me at vatshayan007@gmail.com \n",
        "\n",
        "I will send you\n",
        "1. PPT\n",
        "2. Research Paper\n",
        "3. Code\n",
        "4. Snopsis\n",
        "\n",
        "Website: https://www.cse-projects.com"
      ]
    },
    {
      "cell_type": "code",
      "metadata": {
        "id": "jvTAXZKHv0OR"
      },
      "source": [
        ""
      ],
      "execution_count": null,
      "outputs": []
    }
  ]
}